{
 "cells": [
  {
   "cell_type": "markdown",
   "metadata": {},
   "source": [
    "# The Process \n",
    "Not everytime is there a situation where $Ax = b$ has exact solutions , such is the case when we are trying to find a best fit line for a given set of datapoints , there is no direct solution for it , instead we are in search for the best possible solution.So instead of finding solutions for $Ax = b$ , we can project the $b$ vector onto the column space of $A$ so that we can get the best possible solution.The solution to the equation $A^TA\\hat{X} = A^Tb$ , gives us the best possible solution that we are looking for , which can be simplified to , $\\hat{X} = (A^TA)^{-1}A^Tb$ understanding all this with an example would give us a better idea.\n",
    "\n",
    "Let us find the best possible line passing/fitting through $(1,1),(2,2) ,(3,2)$ \n",
    "taking the equation to be of the form $y = mx + c$ \n",
    "\n",
    "\\begin{equation}\n",
    "\\begin{pmatrix}\n",
    "1 & 1 \\\\\n",
    "2 & 2 \\\\\n",
    "3 & 2 \n",
    "\\end{pmatrix} \n",
    "\\begin{pmatrix}\n",
    "m \\\\\n",
    "c\n",
    "\\end{pmatrix}\n",
    "=\n",
    "\\begin{pmatrix}\n",
    "1 \\\\\n",
    "2 \\\\\n",
    "2\n",
    "\\end{pmatrix}\n",
    "\\end{equation}\n",
    "Which has no solution,so our $\\hat{X}$ is given by\n",
    "\\begin{equation}\n",
    "\\begin{pmatrix}\n",
    "1 & 1 \\\\\n",
    "2 & 2 \\\\\n",
    "3 & 2 \n",
    "\\end{pmatrix}^{T} \n",
    "\\begin{pmatrix}\n",
    "1 & 1 \\\\\n",
    "2 & 2 \\\\\n",
    "3 & 2 \n",
    "\\end{pmatrix} \n",
    "\\hat{X}\n",
    "=\n",
    "\\begin{pmatrix}\n",
    "1 & 1 \\\\\n",
    "2 & 2 \\\\\n",
    "3 & 2 \n",
    "\\end{pmatrix}^{T} \n",
    "\\begin{pmatrix}\n",
    "1 \\\\\n",
    "2 \\\\\n",
    "2\n",
    "\\end{pmatrix}\n",
    "\\end{equation}\n",
    "which on solving gives\n",
    "\\begin{equation}\n",
    "\\begin{pmatrix}\n",
    "\\hat{m} \\\\\n",
    "\\hat{c}\n",
    "\\\n",
    "\\end{pmatrix}\n",
    "=\n",
    "\\begin{pmatrix}\n",
    "\\frac{1}{2} \\\\\n",
    "\\frac{2}{3}\n",
    "\\\n",
    "\\end{pmatrix}\n",
    "\\end{equation}\n",
    "Thus the best fitting line is given by\n",
    "$ y = \\frac{1}{2}x+\\frac{2}{3} $\n",
    "\n",
    "This exact process is done by the below given python fxn."
   ]
  },
  {
   "cell_type": "code",
   "execution_count": 68,
   "metadata": {},
   "outputs": [],
   "source": [
    "import numpy as np\n",
    "import pandas as pd\n",
    "from matplotlib import pyplot as plt"
   ]
  },
  {
   "cell_type": "code",
   "execution_count": 66,
   "metadata": {},
   "outputs": [],
   "source": [
    "def LeastSquares(points):\n",
    "    A = []\n",
    "    b = []\n",
    "    #Extracting the A,b matrix from the given set of points\n",
    "    for p in points:\n",
    "        A.append([1,p[0]])\n",
    "        b.append([p[1]])\n",
    "    A = np.array(A)\n",
    "    b = np.array(b)\n",
    "    points = np.array(points)\n",
    "    #finding the parameters m and c\n",
    "    x = np.matmul(np.matmul(np.linalg.inv(np.matmul(A.T,A)),A.T),b)\n",
    "    #drawing the fitting line\n",
    "    inp_space = np.linspace(points[:,0].min(),points[:,0].max(),1000)\n",
    "    out = (inp_space)*x[1]+x[0]\n",
    "    plt.plot(inp_space,out)\n",
    "    for i in points:\n",
    "        plt.scatter(i[0],i[1])\n",
    "    plt.title(f\"Y = {x[1]}x+{x[0]}\")"
   ]
  },
  {
   "cell_type": "code",
   "execution_count": 88,
   "metadata": {},
   "outputs": [
    {
     "data": {
      "image/png": "[encoded data removed]",
      "text/plain": [
       "<Figure size 432x288 with 1 Axes>"
      ]
     },
     "metadata": {
      "needs_background": "light"
     },
     "output_type": "display_data"
    }
   ],
   "source": [
    "A = LeastSquares([(0,0),(-1,1),(2,3),(3,4)]) # takes in list of points to fit line on."
   ]
  },
  {
   "cell_type": "markdown",
   "metadata": {},
   "source": [
    "# Learn more on\n",
    "[MIT OCW LECTURE](https://ocw.mit.edu/courses/mathematics/18-06-linear-algebra-spring-2010/video-lectures/lecture-16-projection-matrices-and-least-squares)  \n",
    "\n",
    "[Least square Approximations](http://math.mit.edu/~gs/linearalgebra/ila0403.pdf)"
   ]
  }
 ],
 "metadata": {
  "kernelspec": {
   "display_name": "Python 3",
   "language": "python",
   "name": "python3"
  },
  "language_info": {
   "codemirror_mode": {
    "name": "ipython",
    "version": 3
   },
   "file_extension": ".py",
   "mimetype": "text/x-python",
   "name": "python",
   "nbconvert_exporter": "python",
   "pygments_lexer": "ipython3",
   "version": "3.7.0"
  }
 },
 "nbformat": 4,
 "nbformat_minor": 4
}
